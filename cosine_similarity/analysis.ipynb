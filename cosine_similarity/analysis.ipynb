{
 "cells": [
  {
   "cell_type": "code",
   "execution_count": 1,
   "metadata": {},
   "outputs": [
    {
     "name": "stderr",
     "output_type": "stream",
     "text": [
      "c:\\Users\\cauec\\OneDrive\\Área de Trabalho\\nlp-assignment\\.venv\\lib\\site-packages\\tqdm\\auto.py:21: TqdmWarning: IProgress not found. Please update jupyter and ipywidgets. See https://ipywidgets.readthedocs.io/en/stable/user_install.html\n",
      "  from .autonotebook import tqdm as notebook_tqdm\n"
     ]
    }
   ],
   "source": [
    "import numpy as np\n",
    "from sentence_transformers import SentenceTransformer\n",
    "from sklearn.metrics.pairwise import cosine_similarity\n",
    "from responses.psycotic import (\n",
    "    DIRECT_RESPONSE as PSYCHOTIC_DIRECT,\n",
    "    ROLEPLAY_RESPONSE as PSYCHOTIC_ROLEPLAY\n",
    ")\n",
    "from responses.king_france import (\n",
    "    DIRECT_RESPONSE as KING_DIRECT,\n",
    "    ROLEPLAY_RESPONSE as KING_ROLEPLAY\n",
    ")\n",
    "from responses.police_officer import (\n",
    "    DIRECT_RESPONSE as POLICE_DIRECT,\n",
    "    ROLEPLAY_RESPONSE as POLICE_ROLEPLAY\n",
    ")"
   ]
  },
  {
   "cell_type": "code",
   "execution_count": null,
   "metadata": {},
   "outputs": [],
   "source": [
    "model = SentenceTransformer('all-MiniLM-L6-v2')"
   ]
  },
  {
   "cell_type": "code",
   "execution_count": null,
   "metadata": {},
   "outputs": [
    {
     "name": "stdout",
     "output_type": "stream",
     "text": [
      "Cosine Similarity Matrix:\n",
      "[[1.    0.937 0.954 0.943 0.85  0.977]\n",
      " [0.937 1.    0.91  0.899 0.826 0.934]\n",
      " [0.954 0.91  1.    0.943 0.91  0.971]\n",
      " [0.943 0.899 0.943 1.    0.871 0.958]\n",
      " [0.85  0.826 0.91  0.871 1.    0.873]\n",
      " [0.977 0.934 0.971 0.958 0.873 1.   ]]\n",
      "\n",
      "Similarity:\n",
      "Direct Response vs Roleplay Response: 0.937\n",
      "Direct Response vs Roleplay Response: 0.954\n",
      "Direct Response vs Roleplay Response: 0.943\n",
      "Direct Response vs Roleplay Response: 0.850\n",
      "Direct Response vs Roleplay Response: 0.977\n",
      "Direct Response vs Roleplay Response: 0.910\n",
      "Direct Response vs Roleplay Response: 0.899\n",
      "Direct Response vs Roleplay Response: 0.826\n",
      "Direct Response vs Roleplay Response: 0.934\n",
      "Direct Response vs Roleplay Response: 0.943\n",
      "Direct Response vs Roleplay Response: 0.910\n",
      "Direct Response vs Roleplay Response: 0.971\n",
      "Direct Response vs Roleplay Response: 0.871\n",
      "Direct Response vs Roleplay Response: 0.958\n",
      "Direct Response vs Roleplay Response: 0.873\n"
     ]
    }
   ],
   "source": [
    "responses = [\n",
    "    PSYCHOTIC_DIRECT,\n",
    "    PSYCHOTIC_ROLEPLAY,\n",
    "    KING_DIRECT,\n",
    "    KING_ROLEPLAY,\n",
    "    POLICE_DIRECT,\n",
    "    POLICE_ROLEPLAY\n",
    "]\n",
    "\n",
    "embeddings = model.encode(responses, convert_to_tensor=False)\n",
    "similarity_matrix = cosine_similarity(embeddings)\n",
    "\n",
    "print(\"Cosine Similarity Matrix:\")\n",
    "print(np.round(similarity_matrix, 3))"
   ]
  }
 ],
 "metadata": {
  "kernelspec": {
   "display_name": ".venv",
   "language": "python",
   "name": "python3"
  },
  "language_info": {
   "codemirror_mode": {
    "name": "ipython",
    "version": 3
   },
   "file_extension": ".py",
   "mimetype": "text/x-python",
   "name": "python",
   "nbconvert_exporter": "python",
   "pygments_lexer": "ipython3",
   "version": "3.9.13"
  }
 },
 "nbformat": 4,
 "nbformat_minor": 2
}
